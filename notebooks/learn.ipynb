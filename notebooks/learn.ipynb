{
 "cells": [
  {
   "cell_type": "markdown",
   "metadata": {},
   "source": [
    "\n",
    "### 1.项目地址\n",
    "https://github.com/deepset-ai/haystack/tree/main\n",
    "\n",
    "建议使用python3.10\n",
    "conda create -n haystack python=3.10\n",
    "先切换到haystack的python虚拟环境，安装依赖包 trafilatura .不要安装 farm-haystack，这个是haystack的第一个版本，会和haystack-ai[冲突](https://github.com/deepset-ai/haystack/issues/6652)。\n",
    "\n",
    "建议安装 ollama-haystack\n",
    "\n",
    "* **Install fastapi and web server**\n",
    "* RUN pip install fastapi\n",
    "* RUN pip install \"uvicorn[standard]\"\n",
    "* **RAG framework haystack**\n",
    "* RUN pip install --upgrade pip\n",
    "* RUN pip install ollama-haystack\n",
    "\n",
    "\n",
    "### 2.学习路径\n",
    " 2.1 [what is haystack](https://haystack.deepset.ai/overview/intro)\n",
    " 2.2 [quick start](https://haystack.deepset.ai/overview/quick-start)\n",
    "\n",
    "2.3 [通过ollama构建](https://docs.haystack.deepset.ai/reference/integrations-ollama)"
   ]
  },
  {
   "cell_type": "code",
   "execution_count": 9,
   "metadata": {},
   "outputs": [
    {
     "name": "stdout",
     "output_type": "stream",
     "text": [
      "{'replies': ['关于谁是“最好”的美国演员，这个问题非常主观，不同的人可能会有不同的答案。美国电影和电视行业有很多杰出的演员，他们在不同的时期以其独特的才能、表演技巧以及对角色的深刻理解和表现赢得了观众的喜爱与尊敬。例如，梅丽尔·斯特里普（Meryl Streep）、罗伯特·德尼罗（Robert De Niro）、汤姆·汉克斯（Tom Hanks）等都是备受赞誉的名字。\\n\\n每个人心中都有自己的“'], 'meta': [{'model': 'qwen2.5:14b', 'created_at': '2025-01-06T09:27:45.354376Z', 'done': True, 'done_reason': 'length', 'total_duration': 11602652084, 'load_duration': 50395042, 'prompt_eval_count': 34, 'prompt_eval_duration': 732000000, 'eval_count': 100, 'eval_duration': 10818000000, 'context': [151644, 8948, 198, 2610, 525, 1207, 16948, 11, 3465, 553, 54364, 14817, 13, 1446, 525, 264, 10950, 17847, 13, 151645, 198, 151644, 872, 198, 102235, 100625, 104534, 105518, 30, 151645, 198, 151644, 77091, 198, 101888, 100165, 20412, 2073, 101171, 97907, 100625, 104534, 3837, 105073, 99491, 109516, 3837, 99604, 100623, 104309, 114046, 102349, 1773, 100625, 100378, 33108, 100234, 99717, 101194, 108906, 9370, 104534, 3837, 107469, 101970, 100728, 109859, 105071, 101901, 5373, 104319, 102118, 101034, 32664, 100780, 9370, 101295, 115167, 101107, 108774, 104143, 110301, 57218, 109723, 1773, 77557, 3837, 100711, 99686, 99079, 13935, 105829, 69249, 99537, 9909, 44, 45025, 35672, 747, 64359, 100349, 102044, 65278, 13935, 99462, 99685, 100349, 9909, 34532, 1581, 451, 8698, 64359, 102022, 101316, 13935, 99897, 107229, 9909, 24732, 472, 4039, 7552, 49567, 100132, 109120, 115786, 105180, 3407, 101587, 104219, 101103, 100005, 2073]}]}\n"
     ]
    }
   ],
   "source": [
    "#pip install haystack-ai trafilatura farm-haystack\n",
    "\n",
    "# from haystack import Pipeline, PredefinedPipeline\n",
    "# #在线openai api接口\n",
    "# os.environ[\"OPENAI_API_KEY\"] = \"***\"#这里使用ollama本地的key\n",
    "# pipeline = Pipeline.from_template(PredefinedPipeline.CHAT_WITH_WEBSITE)\n",
    "# pipeline = Pipeline.loads\n",
    "# result = pipeline.run({\n",
    "#     \"fetcher\": {\"urls\": [\"https://haystack.deepset.ai/overview/quick-start\"]},\n",
    "#     \"prompt\": {\"query\": \"Which components do I need for a RAG pipeline?\"}}\n",
    "# )\n",
    "import os\n",
    "# 使用本地模型，ollama提供的openai api兼容接口\n",
    "from haystack_integrations.components.generators.ollama import OllamaGenerator\n",
    "\n",
    "generator = OllamaGenerator(model=\"qwen2.5:14b\",\n",
    "                            url = \"http://localhost:11434\",\n",
    "                            generation_kwargs={\n",
    "                            \"num_predict\": 100,\n",
    "                            \"temperature\": 0.9,\n",
    "                            })\n",
    "\n",
    "print(generator.run(\"最好的美国演员是谁?\"))\n"
   ]
  }
 ],
 "metadata": {
  "kernelspec": {
   "display_name": "haystack",
   "language": "python",
   "name": "python3"
  },
  "language_info": {
   "codemirror_mode": {
    "name": "ipython",
    "version": 3
   },
   "file_extension": ".py",
   "mimetype": "text/x-python",
   "name": "python",
   "nbconvert_exporter": "python",
   "pygments_lexer": "ipython3",
   "version": "3.10.16"
  }
 },
 "nbformat": 4,
 "nbformat_minor": 2
}
